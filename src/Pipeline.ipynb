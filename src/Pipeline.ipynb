{
 "cells": [
  {
   "attachments": {},
   "cell_type": "markdown",
   "metadata": {},
   "source": [
    "# SfM"
   ]
  },
  {
   "cell_type": "code",
   "execution_count": 5,
   "metadata": {},
   "outputs": [
    {
     "name": "stdout",
     "output_type": "stream",
     "text": [
      "/Users/unbinilium/Documents/Develop/Python/SfM/src\n"
     ]
    }
   ],
   "source": [
    "import os\n",
    "\n",
    "src_path = os.getcwd()\n",
    "print(src_path)"
   ]
  },
  {
   "attachments": {},
   "cell_type": "markdown",
   "metadata": {},
   "source": [
    "## Common Configs"
   ]
  },
  {
   "cell_type": "code",
   "execution_count": 6,
   "metadata": {},
   "outputs": [
    {
     "name": "stdout",
     "output_type": "stream",
     "text": [
      "/Users/unbinilium/Documents/Develop/Python/SfM/src/../data/datasets/milkbox_dataset/images\n"
     ]
    }
   ],
   "source": [
    "datasets_path = '../data/datasets'\n",
    "datasets_name = 'milkbox_dataset'\n",
    "\n",
    "image_dir_path = os.path.join(src_path, datasets_path, datasets_name, 'images')\n",
    "print(image_dir_path)"
   ]
  },
  {
   "attachments": {},
   "cell_type": "markdown",
   "metadata": {},
   "source": [
    "## Generate Masks"
   ]
  },
  {
   "cell_type": "code",
   "execution_count": 7,
   "metadata": {},
   "outputs": [
    {
     "name": "stdout",
     "output_type": "stream",
     "text": [
      "Running inference on device 'cpu'\n"
     ]
    }
   ],
   "source": [
    "import generate_masks_and_masked_images"
   ]
  },
  {
   "cell_type": "code",
   "execution_count": null,
   "metadata": {},
   "outputs": [],
   "source": [
    "image_masks_path = os.path.join(src_path, datasets_path, datasets_name, 'masks')\n",
    "masked_image_path = os.path.join(src_path, datasets_path, datasets_name, 'masked_images')"
   ]
  },
  {
   "cell_type": "code",
   "execution_count": 9,
   "metadata": {},
   "outputs": [
    {
     "name": "stderr",
     "output_type": "stream",
     "text": [
      "100%|██████████| 43/43 [01:47<00:00,  2.50s/it]\n"
     ]
    }
   ],
   "source": [
    "generate_masks_and_masked_images.main(image_dir_path, image_masks_path, masked_image_path)"
   ]
  },
  {
   "attachments": {},
   "cell_type": "markdown",
   "metadata": {},
   "source": [
    "## Extract Features"
   ]
  },
  {
   "cell_type": "code",
   "execution_count": null,
   "metadata": {},
   "outputs": [],
   "source": [
    "import extract_features"
   ]
  },
  {
   "cell_type": "code",
   "execution_count": null,
   "metadata": {},
   "outputs": [],
   "source": [
    "superpoint_conf = {\n",
    "    'output': 'feats-spp',\n",
    "    'model': {\n",
    "        'path': 'thirdparty/SuperPointPretrainedNetwork/superpoint_v1.pth',\n",
    "        'name': 'spp_det'\n",
    "    },\n",
    "    'preprocessing': {\n",
    "        'grayscale': True\n",
    "    },\n",
    "    'conf': {\n",
    "        'descriptor_dim': 256,\n",
    "        'nms_radius': 3,\n",
    "        'max_keypoints': 4096,\n",
    "        'keypoints_threshold': 0.6\n",
    "    }\n",
    "}\n",
    "\n",
    "features_out_path = os.path.join(src_path, datasets_path, datasets_name, superpoint_conf['output'] + '.h5')\n",
    "print(features_out_path)"
   ]
  },
  {
   "cell_type": "code",
   "execution_count": null,
   "metadata": {},
   "outputs": [],
   "source": [
    "extract_features.main(image_dir_path, features_out_path, superpoint_conf)"
   ]
  },
  {
   "attachments": {},
   "cell_type": "markdown",
   "metadata": {},
   "source": [
    "## Pairs from Pairs"
   ]
  },
  {
   "cell_type": "code",
   "execution_count": null,
   "metadata": {},
   "outputs": [],
   "source": [
    "import pairs_from_poses"
   ]
  },
  {
   "cell_type": "code",
   "execution_count": null,
   "metadata": {},
   "outputs": [],
   "source": [
    "pairs_from_poses_conf = {\n",
    "    'covis_num': 10,\n",
    "    'min_rotation': 10\n",
    "}\n",
    "\n",
    "covis_pairs_out_path = os.path.join(src_path, datasets_path, datasets_name,\n",
    "    'pairs-covis{}.txt'.format(pairs_from_poses_conf['covis_num']))\n",
    "print(covis_pairs_out_path)"
   ]
  },
  {
   "cell_type": "code",
   "execution_count": null,
   "metadata": {},
   "outputs": [],
   "source": [
    "pairs_from_poses.main(image_dir_path, covis_pairs_out_path, pairs_from_poses_conf)"
   ]
  },
  {
   "attachments": {},
   "cell_type": "markdown",
   "metadata": {},
   "source": [
    "## Matching Features"
   ]
  },
  {
   "cell_type": "code",
   "execution_count": null,
   "metadata": {},
   "outputs": [],
   "source": []
  },
  {
   "cell_type": "code",
   "execution_count": null,
   "metadata": {},
   "outputs": [],
   "source": [
    "superglue_conf = {\n",
    "    'output': 'matches-spg',\n",
    "    'conf': {\n",
    "        'descriptor_dim': 256,\n",
    "        'weights': 'indoor',\n",
    "        'match_threshold': 0.7\n",
    "    }\n",
    "}"
   ]
  }
 ],
 "metadata": {
  "kernelspec": {
   "display_name": "SfM",
   "language": "python",
   "name": "python3"
  },
  "language_info": {
   "codemirror_mode": {
    "name": "ipython",
    "version": 3
   },
   "file_extension": ".py",
   "mimetype": "text/x-python",
   "name": "python",
   "nbconvert_exporter": "python",
   "pygments_lexer": "ipython3",
   "version": "3.10.10"
  },
  "orig_nbformat": 4,
  "vscode": {
   "interpreter": {
    "hash": "5354608d47e8d3d40283fd6505b86116d9905b298f75dd83c53ff0767e8880c2"
   }
  }
 },
 "nbformat": 4,
 "nbformat_minor": 2
}
