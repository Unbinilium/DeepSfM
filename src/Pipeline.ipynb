{
 "cells": [
  {
   "attachments": {},
   "cell_type": "markdown",
   "metadata": {},
   "source": [
    "# SfM"
   ]
  },
  {
   "cell_type": "code",
   "execution_count": 46,
   "metadata": {},
   "outputs": [
    {
     "name": "stdout",
     "output_type": "stream",
     "text": [
      "The autoreload extension is already loaded. To reload it, use:\n",
      "  %reload_ext autoreload\n",
      "/Users/unbinilium/Documents/Develop/Python/SfM/src\n"
     ]
    }
   ],
   "source": [
    "import os\n",
    "\n",
    "%load_ext autoreload\n",
    "%autoreload 2\n",
    "\n",
    "src_path = os.getcwd()\n",
    "print(src_path)"
   ]
  },
  {
   "attachments": {},
   "cell_type": "markdown",
   "metadata": {},
   "source": [
    "## Common Configs"
   ]
  },
  {
   "cell_type": "code",
   "execution_count": 47,
   "metadata": {},
   "outputs": [
    {
     "name": "stdout",
     "output_type": "stream",
     "text": [
      "/Users/unbinilium/Documents/Develop/Python/SfM/src/../data/datasets/oreo/images\n"
     ]
    }
   ],
   "source": [
    "datasets_path = '../data/datasets'\n",
    "datasets_name = 'oreo'\n",
    "\n",
    "image_dir_path = os.path.join(src_path, datasets_path, datasets_name, 'images')\n",
    "print(image_dir_path)"
   ]
  },
  {
   "attachments": {},
   "cell_type": "markdown",
   "metadata": {},
   "source": [
    "## Generate Masks"
   ]
  },
  {
   "cell_type": "code",
   "execution_count": 2,
   "metadata": {},
   "outputs": [
    {
     "name": "stdout",
     "output_type": "stream",
     "text": [
      "Running inference on device 'cpu'\n"
     ]
    },
    {
     "name": "stderr",
     "output_type": "stream",
     "text": [
      "/Users/unbinilium/Documents/Develop/Python/SfM/lib/python3.10/site-packages/torch/nn/_reduction.py:42: UserWarning: size_average and reduce args will be deprecated, please use reduction='mean' instead.\n",
      "  warnings.warn(warning.format(ret))\n"
     ]
    }
   ],
   "source": [
    "import generate_masks_and_masked_images"
   ]
  },
  {
   "cell_type": "code",
   "execution_count": 7,
   "metadata": {},
   "outputs": [
    {
     "name": "stdout",
     "output_type": "stream",
     "text": [
      "/Users/unbinilium/Documents/Develop/Python/SfM/src/../data/datasets/oreo/masks /Users/unbinilium/Documents/Develop/Python/SfM/src/../data/datasets/oreo/masked_images\n"
     ]
    }
   ],
   "source": [
    "image_masks_path = os.path.join(src_path, datasets_path, datasets_name, 'masks')\n",
    "masked_image_path = os.path.join(src_path, datasets_path, datasets_name, 'masked_images')\n",
    "print(image_masks_path, masked_image_path)"
   ]
  },
  {
   "cell_type": "code",
   "execution_count": 8,
   "metadata": {},
   "outputs": [
    {
     "name": "stderr",
     "output_type": "stream",
     "text": [
      "100%|██████████| 431/431 [17:15<00:00,  2.40s/it]\n"
     ]
    }
   ],
   "source": [
    "generate_masks_and_masked_images.main(image_dir_path, image_masks_path, masked_image_path)"
   ]
  },
  {
   "attachments": {},
   "cell_type": "markdown",
   "metadata": {},
   "source": [
    "## Extract Features"
   ]
  },
  {
   "cell_type": "code",
   "execution_count": 48,
   "metadata": {},
   "outputs": [],
   "source": [
    "import extract_features"
   ]
  },
  {
   "cell_type": "code",
   "execution_count": 49,
   "metadata": {},
   "outputs": [
    {
     "name": "stdout",
     "output_type": "stream",
     "text": [
      "/Users/unbinilium/Documents/Develop/Python/SfM/src/../data/datasets/oreo/feats-spp.h5\n"
     ]
    }
   ],
   "source": [
    "superpoint_conf = {\n",
    "    'output': 'feats-spp',\n",
    "    'model': {\n",
    "        'path': 'thirdparty/SuperPointPretrainedNetwork/superpoint_v1.pth',\n",
    "        'name': 'spp_det'\n",
    "    },\n",
    "    'preprocessing': {\n",
    "        'grayscale': True\n",
    "    },\n",
    "    'conf': {\n",
    "        'descriptor_dim': 256,\n",
    "        'nms_radius': 3,\n",
    "        'max_keypoints': 4096,\n",
    "        'keypoints_threshold': 0.6\n",
    "    }\n",
    "}\n",
    "\n",
    "features_out_path = os.path.join(src_path, datasets_path, datasets_name, superpoint_conf['output'] + '.h5')\n",
    "print(features_out_path)"
   ]
  },
  {
   "cell_type": "code",
   "execution_count": 50,
   "metadata": {},
   "outputs": [
    {
     "name": "stdout",
     "output_type": "stream",
     "text": [
      "=> load weights:  thirdparty/SuperPointPretrainedNetwork/superpoint_v1.pth\n"
     ]
    },
    {
     "name": "stderr",
     "output_type": "stream",
     "text": [
      "  0%|          | 0/431 [00:00<?, ?it/s]/Users/unbinilium/Documents/Develop/Python/SfM/lib/python3.10/site-packages/torch/nn/functional.py:4227: UserWarning: Default grid_sample and affine_grid behavior has changed to align_corners=False since 1.3.0. Please specify align_corners=True if the old behavior is desired. See the documentation of grid_sample for details.\n",
      "  warnings.warn(\n",
      "100%|██████████| 431/431 [02:47<00:00,  2.57it/s]\n"
     ]
    }
   ],
   "source": [
    "extract_features.main(image_dir_path, features_out_path, superpoint_conf)"
   ]
  },
  {
   "attachments": {},
   "cell_type": "markdown",
   "metadata": {},
   "source": [
    "## Generate Pairs"
   ]
  },
  {
   "cell_type": "code",
   "execution_count": 51,
   "metadata": {},
   "outputs": [],
   "source": [
    "import generate_pairs"
   ]
  },
  {
   "cell_type": "code",
   "execution_count": 52,
   "metadata": {},
   "outputs": [
    {
     "name": "stdout",
     "output_type": "stream",
     "text": [
      "/Users/unbinilium/Documents/Develop/Python/SfM/src/../data/datasets/oreo/from-poses-pairs.txt\n"
     ]
    }
   ],
   "source": [
    "generate_pairs_conf = {\n",
    "    'method': 'from-poses',\n",
    "    'num_matched': 10,\n",
    "    'min_rotation': 10\n",
    "}\n",
    "\n",
    "pairs_out_path = os.path.join(\n",
    "    src_path,\n",
    "    datasets_path,\n",
    "    datasets_name,\n",
    "    '{}-pairs.txt'.format(generate_pairs_conf['method']))\n",
    "print(pairs_out_path)"
   ]
  },
  {
   "cell_type": "code",
   "execution_count": 53,
   "metadata": {},
   "outputs": [],
   "source": [
    "generate_pairs.main(image_dir_path, pairs_out_path, generate_pairs_conf)"
   ]
  },
  {
   "attachments": {},
   "cell_type": "markdown",
   "metadata": {},
   "source": [
    "## Matching Features"
   ]
  },
  {
   "cell_type": "code",
   "execution_count": 54,
   "metadata": {},
   "outputs": [],
   "source": [
    "import match_features"
   ]
  },
  {
   "cell_type": "code",
   "execution_count": 55,
   "metadata": {},
   "outputs": [
    {
     "name": "stdout",
     "output_type": "stream",
     "text": [
      "/Users/unbinilium/Documents/Develop/Python/SfM/src/../data/datasets/oreo/matches-spg.h5\n"
     ]
    }
   ],
   "source": [
    "match_features_conf = {\n",
    "    'model': {\n",
    "        'path': 'thirdparty/SuperGluePretrainedNetwork/models/weights/superglue_indoor.pth'\n",
    "    },\n",
    "    'output': 'matches-spg',\n",
    "    'conf': {\n",
    "        'descriptor_dim': 256,\n",
    "        'weights': 'indoor',\n",
    "        'match_threshold': 0.7\n",
    "    }\n",
    "}\n",
    "\n",
    "matches_out_path = os.path.join(\n",
    "    src_path,\n",
    "    datasets_path,\n",
    "    datasets_name,\n",
    "    '{}.h5'.format(match_features_conf['output']))\n",
    "print(matches_out_path)"
   ]
  },
  {
   "cell_type": "code",
   "execution_count": 56,
   "metadata": {},
   "outputs": [
    {
     "name": "stdout",
     "output_type": "stream",
     "text": [
      "Loaded SuperGlue model (\"indoor\" weights)\n",
      "=> load weights:  thirdparty/SuperGluePretrainedNetwork/models/weights/superglue_indoor.pth\n"
     ]
    },
    {
     "name": "stderr",
     "output_type": "stream",
     "text": [
      "100%|██████████| 2155/2155 [09:31<00:00,  3.77it/s]\n"
     ]
    }
   ],
   "source": [
    "match_features.main(features_out_path, pairs_out_path, matches_out_path, match_features_conf)"
   ]
  },
  {
   "attachments": {},
   "cell_type": "markdown",
   "metadata": {},
   "source": [
    "## Generate Empty"
   ]
  },
  {
   "cell_type": "code",
   "execution_count": 59,
   "metadata": {},
   "outputs": [],
   "source": [
    "import generate_empty"
   ]
  },
  {
   "cell_type": "code",
   "execution_count": 60,
   "metadata": {},
   "outputs": [
    {
     "name": "stdout",
     "output_type": "stream",
     "text": [
      "/Users/unbinilium/Documents/Develop/Python/SfM/src/../data/datasets/oreo/sfm_empty\n"
     ]
    }
   ],
   "source": [
    "sfm_empty_path = os.path.join(src_path, datasets_path, datasets_name, 'sfm_empty')\n",
    "print(sfm_empty_path)"
   ]
  },
  {
   "cell_type": "code",
   "execution_count": 61,
   "metadata": {},
   "outputs": [],
   "source": [
    "generate_empty.main(image_dir_path, sfm_empty_path)"
   ]
  },
  {
   "attachments": {},
   "cell_type": "markdown",
   "metadata": {},
   "source": [
    "## Triangulation"
   ]
  },
  {
   "cell_type": "code",
   "execution_count": 62,
   "metadata": {},
   "outputs": [],
   "source": [
    "import triangulation"
   ]
  },
  {
   "cell_type": "code",
   "execution_count": 63,
   "metadata": {},
   "outputs": [
    {
     "name": "stdout",
     "output_type": "stream",
     "text": [
      "/Users/unbinilium/Documents/Develop/Python/SfM/src/../data/datasets/oreo/sfm_ws /Users/unbinilium/Documents/Develop/Python/SfM/src/../data/datasets/oreo/outputs_feats-spp_matches-spg\n"
     ]
    }
   ],
   "source": [
    "deep_sfm_path = os.path.join(src_path, datasets_path, datasets_name, 'sfm_ws')\n",
    "sfm_outputs_path = os.path.join(src_path, datasets_path, datasets_name,\n",
    "    'outputs' + '_' + superpoint_conf['output'] + '_' + match_features_conf['output'])\n",
    "\n",
    "print(deep_sfm_path, sfm_outputs_path)"
   ]
  },
  {
   "cell_type": "code",
   "execution_count": 64,
   "metadata": {},
   "outputs": [
    {
     "name": "stderr",
     "output_type": "stream",
     "text": [
      "100%|██████████| 431/431 [00:00<00:00, 5906.06it/s]\n",
      "100%|██████████| 2155/2155 [00:00<00:00, 9653.89it/s]\n"
     ]
    }
   ],
   "source": [
    "triangulation.main(\n",
    "    deep_sfm_path,\n",
    "    sfm_empty_path,\n",
    "    sfm_outputs_path,\n",
    "    pairs_out_path,\n",
    "    features_out_path,\n",
    "    matches_out_path,\n",
    "    image_dir=None\n",
    ")"
   ]
  }
 ],
 "metadata": {
  "kernelspec": {
   "display_name": "SfM",
   "language": "python",
   "name": "python3"
  },
  "language_info": {
   "codemirror_mode": {
    "name": "ipython",
    "version": 3
   },
   "file_extension": ".py",
   "mimetype": "text/x-python",
   "name": "python",
   "nbconvert_exporter": "python",
   "pygments_lexer": "ipython3",
   "version": "3.10.10"
  },
  "orig_nbformat": 4,
  "vscode": {
   "interpreter": {
    "hash": "5354608d47e8d3d40283fd6505b86116d9905b298f75dd83c53ff0767e8880c2"
   }
  }
 },
 "nbformat": 4,
 "nbformat_minor": 2
}
