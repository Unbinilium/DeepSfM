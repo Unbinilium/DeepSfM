{
 "cells": [
  {
   "attachments": {},
   "cell_type": "markdown",
   "metadata": {},
   "source": [
    "# SfM"
   ]
  },
  {
   "cell_type": "code",
   "execution_count": 1,
   "metadata": {},
   "outputs": [
    {
     "name": "stdout",
     "output_type": "stream",
     "text": [
      "/Users/unbinilium/Documents/Develop/Python/SfM/src\n"
     ]
    }
   ],
   "source": [
    "import os\n",
    "\n",
    "src_path = os.getcwd()\n",
    "print(src_path)"
   ]
  },
  {
   "attachments": {},
   "cell_type": "markdown",
   "metadata": {},
   "source": [
    "## Common Configs"
   ]
  },
  {
   "cell_type": "code",
   "execution_count": 2,
   "metadata": {},
   "outputs": [
    {
     "name": "stdout",
     "output_type": "stream",
     "text": [
      "/Users/unbinilium/Documents/Develop/Python/SfM/src/../data/datasets/milkbox_dataset/images\n"
     ]
    }
   ],
   "source": [
    "datasets_path = '../data/datasets'\n",
    "datasets_name = 'milkbox_dataset'\n",
    "\n",
    "image_dir_path = os.path.join(src_path, datasets_path, datasets_name, 'images')\n",
    "print(image_dir_path)"
   ]
  },
  {
   "attachments": {},
   "cell_type": "markdown",
   "metadata": {},
   "source": [
    "## Generate Masks"
   ]
  },
  {
   "cell_type": "code",
   "execution_count": 3,
   "metadata": {},
   "outputs": [
    {
     "name": "stdout",
     "output_type": "stream",
     "text": [
      "Running inference on device 'cpu'\n"
     ]
    },
    {
     "name": "stderr",
     "output_type": "stream",
     "text": [
      "/Users/unbinilium/Documents/Develop/Python/SfM/lib/python3.10/site-packages/torch/nn/_reduction.py:42: UserWarning: size_average and reduce args will be deprecated, please use reduction='mean' instead.\n",
      "  warnings.warn(warning.format(ret))\n"
     ]
    }
   ],
   "source": [
    "import generate_masks_and_masked_images"
   ]
  },
  {
   "cell_type": "code",
   "execution_count": 4,
   "metadata": {},
   "outputs": [],
   "source": [
    "image_masks_path = os.path.join(src_path, datasets_path, datasets_name, 'masks')\n",
    "masked_image_path = os.path.join(src_path, datasets_path, datasets_name, 'masked_images')"
   ]
  },
  {
   "cell_type": "code",
   "execution_count": 5,
   "metadata": {},
   "outputs": [
    {
     "name": "stderr",
     "output_type": "stream",
     "text": [
      "  0%|          | 0/43 [00:00<?, ?it/s]/Users/unbinilium/Documents/Develop/Python/SfM/lib/python3.10/site-packages/torch/nn/functional.py:3734: UserWarning: nn.functional.upsample is deprecated. Use nn.functional.interpolate instead.\n",
      "  warnings.warn(\"nn.functional.upsample is deprecated. Use nn.functional.interpolate instead.\")\n",
      "/Users/unbinilium/Documents/Develop/Python/SfM/lib/python3.10/site-packages/torch/nn/functional.py:1967: UserWarning: nn.functional.sigmoid is deprecated. Use torch.sigmoid instead.\n",
      "  warnings.warn(\"nn.functional.sigmoid is deprecated. Use torch.sigmoid instead.\")\n",
      "100%|██████████| 43/43 [01:43<00:00,  2.40s/it]\n"
     ]
    }
   ],
   "source": [
    "generate_masks_and_masked_images.main(image_dir_path, image_masks_path, masked_image_path)"
   ]
  },
  {
   "attachments": {},
   "cell_type": "markdown",
   "metadata": {},
   "source": [
    "## Extract Features"
   ]
  },
  {
   "cell_type": "code",
   "execution_count": 6,
   "metadata": {},
   "outputs": [],
   "source": [
    "import extract_features"
   ]
  },
  {
   "cell_type": "code",
   "execution_count": 7,
   "metadata": {},
   "outputs": [
    {
     "name": "stdout",
     "output_type": "stream",
     "text": [
      "/Users/unbinilium/Documents/Develop/Python/SfM/src/../data/datasets/milkbox_dataset/feats-spp.h5\n"
     ]
    }
   ],
   "source": [
    "superpoint_conf = {\n",
    "    'output': 'feats-spp',\n",
    "    'model': {\n",
    "        'path': 'thirdparty/SuperPointPretrainedNetwork/superpoint_v1.pth',\n",
    "        'name': 'spp_det'\n",
    "    },\n",
    "    'preprocessing': {\n",
    "        'grayscale': True\n",
    "    },\n",
    "    'conf': {\n",
    "        'descriptor_dim': 256,\n",
    "        'nms_radius': 3,\n",
    "        'max_keypoints': 4096,\n",
    "        'keypoints_threshold': 0.6\n",
    "    }\n",
    "}\n",
    "\n",
    "features_out_path = os.path.join(src_path, datasets_path, datasets_name, superpoint_conf['output'] + '.h5')\n",
    "print(features_out_path)"
   ]
  },
  {
   "cell_type": "code",
   "execution_count": 8,
   "metadata": {},
   "outputs": [
    {
     "name": "stdout",
     "output_type": "stream",
     "text": [
      "=> load weights:  thirdparty/SuperPointPretrainedNetwork/superpoint_v1.pth\n"
     ]
    },
    {
     "name": "stderr",
     "output_type": "stream",
     "text": [
      "  0%|          | 0/43 [00:00<?, ?it/s]/Users/unbinilium/Documents/Develop/Python/SfM/lib/python3.10/site-packages/torch/nn/functional.py:4227: UserWarning: Default grid_sample and affine_grid behavior has changed to align_corners=False since 1.3.0. Please specify align_corners=True if the old behavior is desired. See the documentation of grid_sample for details.\n",
      "  warnings.warn(\n",
      "100%|██████████| 43/43 [00:59<00:00,  1.39s/it]\n"
     ]
    }
   ],
   "source": [
    "extract_features.main(image_masks_path, features_out_path, superpoint_conf)"
   ]
  },
  {
   "attachments": {},
   "cell_type": "markdown",
   "metadata": {},
   "source": [
    "## Generate Pairs"
   ]
  },
  {
   "cell_type": "code",
   "execution_count": 9,
   "metadata": {},
   "outputs": [],
   "source": [
    "import generate_pairs"
   ]
  },
  {
   "cell_type": "code",
   "execution_count": 10,
   "metadata": {},
   "outputs": [
    {
     "name": "stdout",
     "output_type": "stream",
     "text": [
      "/Users/unbinilium/Documents/Develop/Python/SfM/src/../data/datasets/milkbox_dataset/sequential-pairs.txt\n"
     ]
    }
   ],
   "source": [
    "generate_pairs_conf = {\n",
    "    'method': 'sequential'\n",
    "}\n",
    "\n",
    "pairs_out_path = os.path.join(\n",
    "    src_path,\n",
    "    datasets_path,\n",
    "    datasets_name,\n",
    "    '{}-pairs.txt'.format(generate_pairs_conf['method']))\n",
    "print(pairs_out_path)"
   ]
  },
  {
   "cell_type": "code",
   "execution_count": 11,
   "metadata": {},
   "outputs": [],
   "source": [
    "generate_pairs.main(image_dir_path, pairs_out_path, generate_pairs_conf)"
   ]
  },
  {
   "attachments": {},
   "cell_type": "markdown",
   "metadata": {},
   "source": [
    "## Matching Features"
   ]
  },
  {
   "cell_type": "code",
   "execution_count": 12,
   "metadata": {},
   "outputs": [],
   "source": [
    "import match_features"
   ]
  },
  {
   "cell_type": "code",
   "execution_count": 13,
   "metadata": {},
   "outputs": [
    {
     "name": "stdout",
     "output_type": "stream",
     "text": [
      "/Users/unbinilium/Documents/Develop/Python/SfM/src/../data/datasets/milkbox_dataset/matches-spg.h5\n"
     ]
    }
   ],
   "source": [
    "match_features_conf = {\n",
    "    'model': {\n",
    "        'path': 'thirdparty/SuperGluePretrainedNetwork/models/weights/superglue_indoor.pth'\n",
    "    },\n",
    "    'output': 'matches-spg',\n",
    "    'conf': {\n",
    "        'descriptor_dim': 256,\n",
    "        'weights': 'indoor',\n",
    "        'match_threshold': 0.7\n",
    "    }\n",
    "}\n",
    "\n",
    "matches_out_path = os.path.join(\n",
    "    src_path,\n",
    "    datasets_path,\n",
    "    datasets_name,\n",
    "    '{}.h5'.format(match_features_conf['output']))\n",
    "print(matches_out_path)"
   ]
  },
  {
   "cell_type": "code",
   "execution_count": 14,
   "metadata": {},
   "outputs": [
    {
     "name": "stdout",
     "output_type": "stream",
     "text": [
      "Loaded SuperGlue model (\"indoor\" weights)\n",
      "=> load weights:  thirdparty/SuperGluePretrainedNetwork/models/weights/superglue_indoor.pth\n"
     ]
    },
    {
     "name": "stderr",
     "output_type": "stream",
     "text": [
      "100%|██████████| 43/43 [00:01<00:00, 35.06it/s]\n"
     ]
    }
   ],
   "source": [
    "match_features.main(features_out_path, pairs_out_path, matches_out_path, match_features_conf)"
   ]
  }
 ],
 "metadata": {
  "kernelspec": {
   "display_name": "SfM",
   "language": "python",
   "name": "python3"
  },
  "language_info": {
   "codemirror_mode": {
    "name": "ipython",
    "version": 3
   },
   "file_extension": ".py",
   "mimetype": "text/x-python",
   "name": "python",
   "nbconvert_exporter": "python",
   "pygments_lexer": "ipython3",
   "version": "3.10.10"
  },
  "orig_nbformat": 4,
  "vscode": {
   "interpreter": {
    "hash": "5354608d47e8d3d40283fd6505b86116d9905b298f75dd83c53ff0767e8880c2"
   }
  }
 },
 "nbformat": 4,
 "nbformat_minor": 2
}
