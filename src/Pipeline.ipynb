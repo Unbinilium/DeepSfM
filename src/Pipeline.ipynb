{
 "cells": [
  {
   "attachments": {},
   "cell_type": "markdown",
   "metadata": {},
   "source": [
    "# SfM"
   ]
  },
  {
   "cell_type": "code",
   "execution_count": null,
   "metadata": {},
   "outputs": [],
   "source": [
    "import os\n",
    "\n",
    "%load_ext autoreload\n",
    "%autoreload 2\n",
    "\n",
    "src_path = os.getcwd()\n",
    "print(src_path)"
   ]
  },
  {
   "attachments": {},
   "cell_type": "markdown",
   "metadata": {},
   "source": [
    "## Common Configs"
   ]
  },
  {
   "cell_type": "code",
   "execution_count": null,
   "metadata": {},
   "outputs": [],
   "source": [
    "datasets_path = '../data/datasets'\n",
    "datasets_name = 'television_dataset'\n",
    "use_masked_images = False\n",
    "\n",
    "image_dir_path = os.path.join(src_path, datasets_path, datasets_name, 'images')\n",
    "print(image_dir_path)"
   ]
  },
  {
   "attachments": {},
   "cell_type": "markdown",
   "metadata": {},
   "source": [
    "## Generate Masks"
   ]
  },
  {
   "cell_type": "code",
   "execution_count": null,
   "metadata": {},
   "outputs": [],
   "source": [
    "import generate_masked_images"
   ]
  },
  {
   "cell_type": "code",
   "execution_count": null,
   "metadata": {},
   "outputs": [],
   "source": [
    "image_masks_path = os.path.join(src_path, datasets_path, datasets_name, 'masks')\n",
    "masked_image_path = os.path.join(src_path, datasets_path, datasets_name, 'masked_images')\n",
    "print(image_masks_path, masked_image_path)"
   ]
  },
  {
   "cell_type": "code",
   "execution_count": null,
   "metadata": {},
   "outputs": [],
   "source": [
    "generate_masked_images.main(image_dir_path, image_masks_path, masked_image_path)"
   ]
  },
  {
   "attachments": {},
   "cell_type": "markdown",
   "metadata": {},
   "source": [
    "## Extract Features"
   ]
  },
  {
   "cell_type": "code",
   "execution_count": null,
   "metadata": {},
   "outputs": [],
   "source": [
    "import extract_features"
   ]
  },
  {
   "cell_type": "code",
   "execution_count": null,
   "metadata": {},
   "outputs": [],
   "source": [
    "superpoint_conf = {\n",
    "    'output': 'feats-spp',\n",
    "    'model': {\n",
    "        'path': 'thirdparty/SuperPointPretrainedNetwork/superpoint_v1.pth',\n",
    "        'name': 'spp_det'\n",
    "    },\n",
    "    'preprocessing': {\n",
    "        'grayscale': True\n",
    "    },\n",
    "    'conf': {\n",
    "        'descriptor_dim': 256,\n",
    "        'nms_radius': 3,\n",
    "        'max_keypoints': 4096,\n",
    "        'keypoints_threshold': 0.6\n",
    "    }\n",
    "}\n",
    "\n",
    "features_out_path = os.path.join(src_path, datasets_path, datasets_name, superpoint_conf['output'] + '.h5')\n",
    "\n",
    "print(features_out_path)"
   ]
  },
  {
   "cell_type": "code",
   "execution_count": null,
   "metadata": {},
   "outputs": [],
   "source": [
    "extract_features.main(\n",
    "    image_dir_path if not use_masked_images else masked_image_path,\n",
    "    features_out_path,\n",
    "    superpoint_conf)"
   ]
  },
  {
   "attachments": {},
   "cell_type": "markdown",
   "metadata": {},
   "source": [
    "## Generate Pairs"
   ]
  },
  {
   "cell_type": "code",
   "execution_count": null,
   "metadata": {},
   "outputs": [],
   "source": [
    "import generate_pairs"
   ]
  },
  {
   "cell_type": "code",
   "execution_count": null,
   "metadata": {},
   "outputs": [],
   "source": [
    "generate_pairs_conf = {\n",
    "    'method': 'from-poses',\n",
    "    'num_matched': 10,\n",
    "    'min_rotation': 10\n",
    "}\n",
    "\n",
    "pairs_out_path = os.path.join(\n",
    "    src_path,\n",
    "    datasets_path,\n",
    "    datasets_name,\n",
    "    '{}-pairs.txt'.format(generate_pairs_conf['method']))\n",
    "    \n",
    "print(pairs_out_path)"
   ]
  },
  {
   "cell_type": "code",
   "execution_count": null,
   "metadata": {},
   "outputs": [],
   "source": [
    "generate_pairs.main(\n",
    "    image_dir_path if not use_masked_images else masked_image_path,\n",
    "    pairs_out_path,\n",
    "    generate_pairs_conf)"
   ]
  },
  {
   "attachments": {},
   "cell_type": "markdown",
   "metadata": {},
   "source": [
    "## Matching Features"
   ]
  },
  {
   "cell_type": "code",
   "execution_count": null,
   "metadata": {},
   "outputs": [],
   "source": [
    "import match_features"
   ]
  },
  {
   "cell_type": "code",
   "execution_count": null,
   "metadata": {},
   "outputs": [],
   "source": [
    "match_features_conf = {\n",
    "    'model': {\n",
    "        'path': 'thirdparty/SuperGluePretrainedNetwork/models/weights/superglue_indoor.pth'\n",
    "    },\n",
    "    'output': 'matches-spg',\n",
    "    'conf': {\n",
    "        'descriptor_dim': 256,\n",
    "        'weights': 'indoor',\n",
    "        'match_threshold': 0.7\n",
    "    }\n",
    "}\n",
    "\n",
    "matches_out_path = os.path.join(\n",
    "    src_path,\n",
    "    datasets_path,\n",
    "    datasets_name,\n",
    "    '{}.h5'.format(match_features_conf['output']))\n",
    "    \n",
    "print(matches_out_path)"
   ]
  },
  {
   "cell_type": "code",
   "execution_count": null,
   "metadata": {},
   "outputs": [],
   "source": [
    "match_features.main(\n",
    "    features_out_path,\n",
    "    pairs_out_path,\n",
    "    matches_out_path,\n",
    "    match_features_conf)"
   ]
  },
  {
   "attachments": {},
   "cell_type": "markdown",
   "metadata": {},
   "source": [
    "## Generate Empty"
   ]
  },
  {
   "cell_type": "code",
   "execution_count": null,
   "metadata": {},
   "outputs": [],
   "source": [
    "import generate_empty"
   ]
  },
  {
   "cell_type": "code",
   "execution_count": null,
   "metadata": {},
   "outputs": [],
   "source": [
    "sfm_empty_path = os.path.join(src_path, datasets_path, datasets_name, 'sfm_empty')\n",
    "print(sfm_empty_path)"
   ]
  },
  {
   "cell_type": "code",
   "execution_count": null,
   "metadata": {},
   "outputs": [],
   "source": [
    "generate_empty.main(\n",
    "    image_dir_path if not use_masked_images else masked_image_path,\n",
    "    sfm_empty_path)"
   ]
  },
  {
   "attachments": {},
   "cell_type": "markdown",
   "metadata": {},
   "source": [
    "## Triangulation"
   ]
  },
  {
   "cell_type": "code",
   "execution_count": null,
   "metadata": {},
   "outputs": [],
   "source": [
    "import triangulation"
   ]
  },
  {
   "cell_type": "code",
   "execution_count": null,
   "metadata": {},
   "outputs": [],
   "source": [
    "deep_sfm_path = os.path.join(src_path, datasets_path, datasets_name, 'sfm_ws')\n",
    "sfm_outputs_path = os.path.join(\n",
    "    src_path,\n",
    "    datasets_path,\n",
    "    datasets_name,\n",
    "    'outputs' + '_' + superpoint_conf['output'] + '_' + match_features_conf['output'])\n",
    "\n",
    "print(deep_sfm_path, sfm_outputs_path)"
   ]
  },
  {
   "cell_type": "code",
   "execution_count": null,
   "metadata": {},
   "outputs": [],
   "source": [
    "triangulation.main(\n",
    "    deep_sfm_path,\n",
    "    sfm_empty_path,\n",
    "    sfm_outputs_path,\n",
    "    pairs_out_path,\n",
    "    features_out_path,\n",
    "    matches_out_path,\n",
    "    image_dir=image_dir_path if not use_masked_images else masked_image_path\n",
    ")"
   ]
  }
 ],
 "metadata": {
  "kernelspec": {
   "display_name": "SfM",
   "language": "python",
   "name": "python3"
  },
  "language_info": {
   "codemirror_mode": {
    "name": "ipython",
    "version": 3
   },
   "file_extension": ".py",
   "mimetype": "text/x-python",
   "name": "python",
   "nbconvert_exporter": "python",
   "pygments_lexer": "ipython3",
   "version": "3.10.10"
  },
  "orig_nbformat": 4,
  "vscode": {
   "interpreter": {
    "hash": "5354608d47e8d3d40283fd6505b86116d9905b298f75dd83c53ff0767e8880c2"
   }
  }
 },
 "nbformat": 4,
 "nbformat_minor": 2
}
