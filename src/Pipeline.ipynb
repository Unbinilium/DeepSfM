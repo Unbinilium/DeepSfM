{
 "cells": [
  {
   "cell_type": "markdown",
   "metadata": {},
   "source": [
    "# SfM"
   ]
  },
  {
   "cell_type": "code",
   "execution_count": 2,
   "metadata": {},
   "outputs": [
    {
     "name": "stdout",
     "output_type": "stream",
     "text": [
      "The autoreload extension is already loaded. To reload it, use:\n",
      "  %reload_ext autoreload\n",
      "/Users/unbinilium/Documents/Develop/Python/SfM/src\n"
     ]
    }
   ],
   "source": [
    "import os\n",
    "\n",
    "%load_ext autoreload\n",
    "%autoreload 2\n",
    "\n",
    "src_path = os.getcwd()\n",
    "print(src_path)"
   ]
  },
  {
   "cell_type": "markdown",
   "metadata": {},
   "source": [
    "## Common Configs"
   ]
  },
  {
   "cell_type": "code",
   "execution_count": 3,
   "metadata": {},
   "outputs": [
    {
     "name": "stdout",
     "output_type": "stream",
     "text": [
      "/Users/unbinilium/Documents/Develop/Python/SfM/src/../data/datasets/vegetable_dog_full_masked_sp_ex_sg/images\n"
     ]
    }
   ],
   "source": [
    "datasets_path = '../data/datasets'\n",
    "datasets_name = 'vegetable_dog_full_masked_sp_ex_sg'\n",
    "use_masked_images = True\n",
    "mvs_path = '/usr/local/bin/OpenMVS'\n",
    "\n",
    "image_dir_path = os.path.join(src_path, datasets_path, datasets_name, 'images')\n",
    "print(image_dir_path)"
   ]
  },
  {
   "cell_type": "markdown",
   "metadata": {},
   "source": [
    "## Generate Masks"
   ]
  },
  {
   "cell_type": "code",
   "execution_count": 4,
   "metadata": {},
   "outputs": [],
   "source": [
    "import core.generate_masked_images"
   ]
  },
  {
   "cell_type": "code",
   "execution_count": 5,
   "metadata": {},
   "outputs": [
    {
     "name": "stdout",
     "output_type": "stream",
     "text": [
      "/Users/unbinilium/Documents/Develop/Python/SfM/src/../data/datasets/vegetable_dog_full_masked_sp_ex_sg/masks /Users/unbinilium/Documents/Develop/Python/SfM/src/../data/datasets/vegetable_dog_full_masked_sp_ex_sg/masked_images\n"
     ]
    }
   ],
   "source": [
    "hypar_conf = {\n",
    "    'model_path': '../data/models/is-net',  # load trained weights from this path\n",
    "    'restore_model': 'isnet.pth',           # name of the to-be-loaded weights\n",
    "    'interm_sup': False,                    # indicate if activate intermediate feature supervision\n",
    "    'model_digit': 'full',                  # indicates 'half' or 'full' accuracy of float number\n",
    "    'seed': 0,\n",
    "    'cache_size': [1024, 1024],             # cached input spatial resolution, can be configured into different size\n",
    "    'input_size': [1024, 1024],             # mdoel input spatial size, usually use the same value hypar['cache_size'], which means we don't further resize the images\n",
    "    'crop_size': [1024, 1024],              # random crop size from the input, it is usually set as smaller than hypar['cache_size'], e.g., [920,920] for data augmentation\n",
    "}\n",
    "\n",
    "image_masks_path = os.path.join(src_path, datasets_path, datasets_name, 'masks')\n",
    "masked_image_path = os.path.join(src_path, datasets_path, datasets_name, 'masked_images')\n",
    "print(image_masks_path, masked_image_path)"
   ]
  },
  {
   "cell_type": "code",
   "execution_count": 7,
   "metadata": {},
   "outputs": [
    {
     "name": "stdout",
     "output_type": "stream",
     "text": [
      "Old masks out directory exist: /Users/unbinilium/Documents/Develop/Python/SfM/src/../data/datasets/vegetable_dog_full_masked_sp_ex_sg/masks\n",
      "Old masked images out directory exist: /Users/unbinilium/Documents/Develop/Python/SfM/src/../data/datasets/vegetable_dog_full_masked_sp_ex_sg/masked_images\n",
      "Initializing DIS Network...\n",
      "Running inference on device \"cpu\"\n",
      "Generating masks and masked images...\n"
     ]
    },
    {
     "name": "stderr",
     "output_type": "stream",
     "text": [
      "100%|██████████| 107/107 [04:32<00:00,  2.55s/it]\n"
     ]
    }
   ],
   "source": [
    "core.generate_masked_images.main(\n",
    "    image_dir_path,\n",
    "    image_masks_path,\n",
    "    masked_image_path,\n",
    "    hypar_conf)"
   ]
  },
  {
   "cell_type": "markdown",
   "metadata": {},
   "source": [
    "## Extract Features"
   ]
  },
  {
   "cell_type": "code",
   "execution_count": null,
   "metadata": {},
   "outputs": [],
   "source": [
    "import core.extract_features"
   ]
  },
  {
   "cell_type": "code",
   "execution_count": null,
   "metadata": {},
   "outputs": [],
   "source": [
    "superpoint_conf = {\n",
    "    'output': 'feats-spp',\n",
    "    'model': {\n",
    "        'path': '../thirdparty/SuperPointPretrainedNetwork/superpoint_v1.pth',\n",
    "        'name': 'spp_det'\n",
    "    },\n",
    "    'preprocessing': {\n",
    "        'grayscale': True\n",
    "    },\n",
    "    'conf': {\n",
    "        'descriptor_dim': 256,\n",
    "        'nms_radius': 3,\n",
    "        'max_keypoints': 4096,\n",
    "        'keypoints_threshold': 0.6\n",
    "    }\n",
    "}\n",
    "\n",
    "features_out_path = os.path.join(src_path, datasets_path, datasets_name, superpoint_conf['output'] + '.h5')\n",
    "\n",
    "print(features_out_path)"
   ]
  },
  {
   "cell_type": "code",
   "execution_count": null,
   "metadata": {},
   "outputs": [],
   "source": [
    "core.extract_features.main(\n",
    "    image_dir_path if not use_masked_images else masked_image_path,\n",
    "    features_out_path,\n",
    "    superpoint_conf)"
   ]
  },
  {
   "cell_type": "markdown",
   "metadata": {},
   "source": [
    "## Generate Pairs"
   ]
  },
  {
   "cell_type": "code",
   "execution_count": null,
   "metadata": {},
   "outputs": [],
   "source": [
    "import core.generate_pairs"
   ]
  },
  {
   "cell_type": "code",
   "execution_count": null,
   "metadata": {},
   "outputs": [],
   "source": [
    "generate_pairs_conf = {\n",
    "    'method': 'exhaustive',\n",
    "    'num_matched': 3,\n",
    "    'min_rotation': 10,\n",
    "    'feature_path': features_out_path,\n",
    "    'superglue': {\n",
    "        'model': {\n",
    "            'path': '../thirdparty/SuperGluePretrainedNetwork/models/weights/superglue_outdoor.pth'\n",
    "        },\n",
    "        'output': 'matches-spg',\n",
    "        'conf': {\n",
    "            'descriptor_dim': 256,\n",
    "            'weights': 'outdoor',\n",
    "            'match_threshold': 0.7\n",
    "        }\n",
    "    }\n",
    "}\n",
    "\n",
    "pairs_out_path = os.path.join(src_path, datasets_path, datasets_name, '{}-pairs.txt'.format(generate_pairs_conf['method'])) \n",
    "print(pairs_out_path)"
   ]
  },
  {
   "cell_type": "code",
   "execution_count": null,
   "metadata": {},
   "outputs": [],
   "source": [
    "core.generate_pairs.main(\n",
    "    image_dir_path if not use_masked_images else masked_image_path,\n",
    "    pairs_out_path,\n",
    "    generate_pairs_conf)"
   ]
  },
  {
   "cell_type": "markdown",
   "metadata": {},
   "source": [
    "## Matching Features"
   ]
  },
  {
   "cell_type": "code",
   "execution_count": null,
   "metadata": {},
   "outputs": [],
   "source": [
    "import core.match_features"
   ]
  },
  {
   "cell_type": "code",
   "execution_count": null,
   "metadata": {},
   "outputs": [],
   "source": [
    "match_features_conf = {\n",
    "    'model': {\n",
    "        'path': '../thirdparty/SuperGluePretrainedNetwork/models/weights/superglue_indoor.pth'\n",
    "    },\n",
    "    'output': 'matches-spg',\n",
    "    'conf': {\n",
    "        'descriptor_dim': 256,\n",
    "        'weights': 'indoor',\n",
    "        'match_threshold': 0.7\n",
    "    }\n",
    "}\n",
    "\n",
    "matches_out_path = os.path.join(src_path, datasets_path, datasets_name, '{}.h5'.format(match_features_conf['output']))\n",
    "print(matches_out_path)"
   ]
  },
  {
   "cell_type": "code",
   "execution_count": null,
   "metadata": {},
   "outputs": [],
   "source": [
    "core.match_features.main(\n",
    "    features_out_path,\n",
    "    pairs_out_path,\n",
    "    matches_out_path,\n",
    "    match_features_conf)"
   ]
  },
  {
   "cell_type": "markdown",
   "metadata": {},
   "source": [
    "## Generate Empty"
   ]
  },
  {
   "cell_type": "code",
   "execution_count": null,
   "metadata": {},
   "outputs": [],
   "source": [
    "import core.generate_empty"
   ]
  },
  {
   "cell_type": "code",
   "execution_count": null,
   "metadata": {},
   "outputs": [],
   "source": [
    "sfm_empty_path = os.path.join(src_path, datasets_path, datasets_name, 'sfm_empty')\n",
    "print(sfm_empty_path)"
   ]
  },
  {
   "cell_type": "code",
   "execution_count": null,
   "metadata": {},
   "outputs": [],
   "source": [
    "core.generate_empty.main(\n",
    "    image_dir_path if not use_masked_images else masked_image_path,\n",
    "    sfm_empty_path)"
   ]
  },
  {
   "cell_type": "markdown",
   "metadata": {},
   "source": [
    "## Triangulation"
   ]
  },
  {
   "cell_type": "code",
   "execution_count": null,
   "metadata": {},
   "outputs": [],
   "source": [
    "import core.triangulation"
   ]
  },
  {
   "cell_type": "code",
   "execution_count": null,
   "metadata": {},
   "outputs": [],
   "source": [
    "deep_sfm_path = os.path.join(src_path, datasets_path, datasets_name, 'sfm_ws')\n",
    "sfm_outputs_path = os.path.join(deep_sfm_path, 'outputs')\n",
    "\n",
    "print(deep_sfm_path, sfm_outputs_path)"
   ]
  },
  {
   "cell_type": "code",
   "execution_count": null,
   "metadata": {},
   "outputs": [],
   "source": [
    "core.triangulation.main(\n",
    "    deep_sfm_path,\n",
    "    sfm_empty_path,\n",
    "    sfm_outputs_path,\n",
    "    pairs_out_path,\n",
    "    features_out_path,\n",
    "    matches_out_path,\n",
    "    image_dir=image_dir_path if not use_masked_images else masked_image_path)"
   ]
  },
  {
   "cell_type": "markdown",
   "metadata": {},
   "source": [
    "## Convert Workspace"
   ]
  },
  {
   "cell_type": "code",
   "execution_count": null,
   "metadata": {},
   "outputs": [],
   "source": [
    "mvs_ws_path = os.path.join(src_path, datasets_path, datasets_name, 'mvs_ws')\n",
    "mvs_images_path = os.path.join(src_path, datasets_path, datasets_name, 'mvs_ws/images')\n",
    "\n",
    "if os.path.exists(mvs_ws_path):\n",
    "    print('Old MVS workspace exist, removing...')\n",
    "    cmd = ' '.join(['rm', '-fr', mvs_ws_path])\n",
    "    os.system(cmd)\n",
    "os.mkdir(mvs_ws_path)\n",
    "\n",
    "print(mvs_ws_path, mvs_images_path)"
   ]
  },
  {
   "cell_type": "code",
   "execution_count": null,
   "metadata": {},
   "outputs": [],
   "source": [
    "file_cmds = [' '.join([\n",
    "    'cp', '-r',\n",
    "    os.path.join(deep_sfm_path, 'model'),\n",
    "    os.path.join(deep_sfm_path, 'sparse')\n",
    "]), ' '.join([\n",
    "    'ln', '-s',\n",
    "    image_dir_path if not use_masked_images else masked_image_path,\n",
    "    mvs_images_path\n",
    "])]\n",
    "\n",
    "mvs_cmd = ' '.join([\n",
    "    os.path.join(mvs_path,'InterfaceCOLMAP'),\n",
    "    '--working-folder', mvs_ws_path,\n",
    "    '--input-file', deep_sfm_path,\n",
    "    '--output-file', os.path.join(mvs_ws_path, 'model/model_colmap.mvs')\n",
    "])\n",
    "\n",
    "print(file_cmds, '\\n', mvs_cmd)"
   ]
  },
  {
   "cell_type": "code",
   "execution_count": null,
   "metadata": {},
   "outputs": [],
   "source": [
    "[os.system(c) for c in file_cmds]"
   ]
  },
  {
   "cell_type": "code",
   "execution_count": null,
   "metadata": {},
   "outputs": [],
   "source": [
    "os.system(mvs_cmd)"
   ]
  },
  {
   "cell_type": "markdown",
   "metadata": {},
   "source": [
    "## Densify Point Cloud"
   ]
  },
  {
   "cell_type": "code",
   "execution_count": null,
   "metadata": {},
   "outputs": [],
   "source": [
    "mvs_cmd = ' '.join([\n",
    "    os.path.join(mvs_path,'DensifyPointCloud'),\n",
    "    '--archive-type', '-1',\n",
    "    '--working-folder', mvs_ws_path,\n",
    "    '--input-file', os.path.join(mvs_ws_path, 'model/model_colmap.mvs'),\n",
    "    '--output-file', os.path.join(mvs_ws_path, 'model/model_dense.mvs'),\n",
    "])\n",
    "print(mvs_cmd)"
   ]
  },
  {
   "cell_type": "code",
   "execution_count": null,
   "metadata": {},
   "outputs": [],
   "source": [
    "os.system(mvs_cmd)"
   ]
  },
  {
   "cell_type": "markdown",
   "metadata": {},
   "source": [
    "## Reconstruct Mesh"
   ]
  },
  {
   "cell_type": "code",
   "execution_count": null,
   "metadata": {},
   "outputs": [],
   "source": [
    "mvs_cmd = ' '.join([\n",
    "    os.path.join(mvs_path, 'ReconstructMesh'),\n",
    "    '--working-folder', mvs_ws_path,\n",
    "    '--input-file', os.path.join(mvs_ws_path, 'model/model_dense.mvs'),\n",
    "    '--output-file', os.path.join(mvs_ws_path, 'model/model_dense_mesh.mvs')\n",
    "])\n",
    "print(mvs_cmd)"
   ]
  },
  {
   "cell_type": "code",
   "execution_count": null,
   "metadata": {},
   "outputs": [],
   "source": [
    "os.system(mvs_cmd)"
   ]
  },
  {
   "cell_type": "markdown",
   "metadata": {},
   "source": [
    "## Refine Mesh"
   ]
  },
  {
   "cell_type": "code",
   "execution_count": null,
   "metadata": {},
   "outputs": [],
   "source": [
    "mvs_cmd = ' '.join([\n",
    "    os.path.join(mvs_path, 'RefineMesh'),\n",
    "    '--resolution-level', '1',\n",
    "    '--working-folder', mvs_ws_path,\n",
    "    '--input-file', os.path.join(mvs_ws_path, 'model/model_dense_mesh.mvs'),\n",
    "    '--output-file', os.path.join(mvs_ws_path, 'model/model_dense_mesh_refine.mvs')\n",
    "])\n",
    "print(mvs_cmd)"
   ]
  },
  {
   "cell_type": "code",
   "execution_count": null,
   "metadata": {},
   "outputs": [],
   "source": [
    "os.system(mvs_cmd)"
   ]
  },
  {
   "cell_type": "markdown",
   "metadata": {},
   "source": [
    "## Texture Mesh"
   ]
  },
  {
   "cell_type": "code",
   "execution_count": null,
   "metadata": {},
   "outputs": [],
   "source": [
    "mvs_cmd = ' '.join([\n",
    "    os.path.join(mvs_path, 'TextureMesh'),\n",
    "    '--export-type', 'obj',\n",
    "    '--working-folder', mvs_ws_path,\n",
    "    '--input-file', os.path.join(mvs_ws_path, 'model/model_dense_mesh_refine.mvs'),\n",
    "    '--output-file', os.path.join(mvs_ws_path, 'model/model.obj')\n",
    "])\n",
    "print(mvs_cmd)"
   ]
  },
  {
   "cell_type": "code",
   "execution_count": null,
   "metadata": {},
   "outputs": [],
   "source": [
    "os.system(mvs_cmd)"
   ]
  }
 ],
 "metadata": {
  "kernelspec": {
   "display_name": "Python 3 (ipykernel)",
   "language": "python",
   "name": "python3"
  },
  "language_info": {
   "codemirror_mode": {
    "name": "ipython",
    "version": 3
   },
   "file_extension": ".py",
   "mimetype": "text/x-python",
   "name": "python",
   "nbconvert_exporter": "python",
   "pygments_lexer": "ipython3",
   "version": "3.10.10"
  },
  "vscode": {
   "interpreter": {
    "hash": "5354608d47e8d3d40283fd6505b86116d9905b298f75dd83c53ff0767e8880c2"
   }
  }
 },
 "nbformat": 4,
 "nbformat_minor": 4
}
