{
 "cells": [
  {
   "attachments": {},
   "cell_type": "markdown",
   "metadata": {},
   "source": [
    "# Datasets"
   ]
  },
  {
   "attachments": {},
   "cell_type": "markdown",
   "metadata": {},
   "source": [
    "## Video to Images"
   ]
  },
  {
   "cell_type": "code",
   "execution_count": null,
   "metadata": {},
   "outputs": [],
   "source": [
    "import cv2\n",
    "import os\n",
    "\n",
    "from pathlib import Path"
   ]
  },
  {
   "cell_type": "code",
   "execution_count": null,
   "metadata": {},
   "outputs": [],
   "source": [
    "datasets_path = '../data/datasets'\n",
    "datasets_name = 'television_dataset'\n",
    "downsample = 1\n",
    "\n",
    "video_dir_path = os.path.join(datasets_path, datasets_name, 'videos')\n",
    "images_out_path = os.path.join(datasets_path, datasets_name, 'images')\n",
    "Path(images_out_path).mkdir(exist_ok=True, parents=True)\n",
    "print(video_dir_path, images_out_path)"
   ]
  },
  {
   "cell_type": "code",
   "execution_count": null,
   "metadata": {},
   "outputs": [],
   "source": [
    "video_lists = []\n",
    "\n",
    "for filename in os.listdir(video_dir_path):\n",
    "    if os.path.splitext(filename)[1] in ['.mp4', '.mov']:\n",
    "        video_lists.append(os.path.join(video_dir_path, filename))\n",
    "\n",
    "print(video_lists)"
   ]
  },
  {
   "cell_type": "code",
   "execution_count": null,
   "metadata": {},
   "outputs": [],
   "source": [
    "image_idx = 0\n",
    "\n",
    "for v in video_lists:\n",
    "    cap = cv2.VideoCapture(v)\n",
    "\n",
    "    while True:\n",
    "        ret, image = cap.read()\n",
    "        if not ret:\n",
    "            break\n",
    "        \n",
    "        if image_idx % downsample == 0:\n",
    "            image_path = os.path.join(images_out_path, '{}.png'.format(image_idx // downsample))\n",
    "            cv2.imwrite(image_path, image)\n",
    "        image_idx += 1\n",
    "    "
   ]
  }
 ],
 "metadata": {
  "kernelspec": {
   "display_name": "SfM",
   "language": "python",
   "name": "python3"
  },
  "language_info": {
   "codemirror_mode": {
    "name": "ipython",
    "version": 3
   },
   "file_extension": ".py",
   "mimetype": "text/x-python",
   "name": "python",
   "nbconvert_exporter": "python",
   "pygments_lexer": "ipython3",
   "version": "3.10.10"
  },
  "orig_nbformat": 4,
  "vscode": {
   "interpreter": {
    "hash": "5354608d47e8d3d40283fd6505b86116d9905b298f75dd83c53ff0767e8880c2"
   }
  }
 },
 "nbformat": 4,
 "nbformat_minor": 2
}
