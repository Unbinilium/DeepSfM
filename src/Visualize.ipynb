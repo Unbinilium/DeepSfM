{
 "cells": [
  {
   "attachments": {},
   "cell_type": "markdown",
   "metadata": {},
   "source": [
    "# Visualizations"
   ]
  },
  {
   "cell_type": "code",
   "execution_count": 14,
   "metadata": {},
   "outputs": [],
   "source": [
    "import os\n",
    "from pathlib import Path"
   ]
  },
  {
   "cell_type": "code",
   "execution_count": 6,
   "metadata": {},
   "outputs": [
    {
     "data": {
      "text/plain": [
       "'/Users/unbinilium/Documents/Develop/Python/SfM/src'"
      ]
     },
     "execution_count": 6,
     "metadata": {},
     "output_type": "execute_result"
    }
   ],
   "source": [
    "cwd = os.getcwd()\n",
    "cwd"
   ]
  },
  {
   "cell_type": "code",
   "execution_count": 7,
   "metadata": {},
   "outputs": [
    {
     "data": {
      "text/plain": [
       "'/Users/unbinilium/Documents/Develop/Python/SfM/src/../data/datasets'"
      ]
     },
     "execution_count": 7,
     "metadata": {},
     "output_type": "execute_result"
    }
   ],
   "source": [
    "dataset_dir = '../data/datasets'\n",
    "\n",
    "dataset_path = os.path.join(cwd, dataset_dir)\n",
    "dataset_path"
   ]
  },
  {
   "cell_type": "code",
   "execution_count": 24,
   "metadata": {},
   "outputs": [
    {
     "name": "stdout",
     "output_type": "stream",
     "text": [
      "vegetable_dog_full_masked_sp_ex_sg \n",
      "\t dict_keys(['dense_mesh', 'dense', 'dense_mesh_refine'])\n",
      "mini_oreo_sp_po_sg \n",
      "\t dict_keys(['dense_mesh', 'dense', 'dense_mesh_refine'])\n",
      "vegetable_dog_full_masked_sift_ex_nn \n",
      "\t dict_keys(['dense_mesh', 'dense', 'dense_mesh_refine'])\n",
      "vegetable_dog_full_sp_ex_sg \n",
      "\t dict_keys(['dense_mesh', 'dense', 'dense_mesh_refine'])\n",
      "mini_oreo_masked_sp_po_sg \n",
      "\t dict_keys(['dense_mesh', 'dense', 'dense_mesh_refine'])\n",
      "vegetable_dog_full_sift_ex_nn \n",
      "\t dict_keys(['dense_mesh', 'dense', 'dense_mesh_refine'])\n"
     ]
    }
   ],
   "source": [
    "plys = {}\n",
    "\n",
    "for fn in os.listdir(dataset_path):\n",
    "    if not os.path.isdir(os.path.join(dataset_path, fn)):\n",
    "        continue\n",
    "    \n",
    "    model_plys = {}\n",
    "    mvs_dir = os.path.join(dataset_path, fn, 'mvs_ws')\n",
    "    if not os.path.isdir(mvs_dir):\n",
    "        continue\n",
    "\n",
    "    for f in os.listdir(mvs_dir):\n",
    "        if not (f.endswith('.ply') and f.startswith('model_')):\n",
    "            continue\n",
    "        p = os.path.join(mvs_dir, f)\n",
    "        k = Path(f).stem.replace('model_', '')\n",
    "        model_plys[k] = p\n",
    "        \n",
    "    mvs_model_dir = os.path.join(mvs_dir, 'model')\n",
    "    if os.path.isdir(mvs_model_dir):\n",
    "        for f in os.listdir(mvs_model_dir):\n",
    "            if not (f.endswith('.ply') and f.startswith('model_')):\n",
    "                continue\n",
    "            p = os.path.join(mvs_dir, f)\n",
    "            k = Path(f).stem.replace('model_', '')\n",
    "            model_plys[k] = p\n",
    "    \n",
    "    plys[fn] = model_plys\n",
    "       \n",
    "for (k, v) in plys.items():\n",
    "    print(k, '\\n\\t', v.keys())\n",
    "            "
   ]
  },
  {
   "cell_type": "code",
   "execution_count": null,
   "metadata": {},
   "outputs": [],
   "source": []
  }
 ],
 "metadata": {
  "kernelspec": {
   "display_name": "SfM",
   "language": "python",
   "name": "python3"
  },
  "language_info": {
   "codemirror_mode": {
    "name": "ipython",
    "version": 3
   },
   "file_extension": ".py",
   "mimetype": "text/x-python",
   "name": "python",
   "nbconvert_exporter": "python",
   "pygments_lexer": "ipython3",
   "version": "3.10.10"
  },
  "orig_nbformat": 4,
  "vscode": {
   "interpreter": {
    "hash": "5354608d47e8d3d40283fd6505b86116d9905b298f75dd83c53ff0767e8880c2"
   }
  }
 },
 "nbformat": 4,
 "nbformat_minor": 2
}
