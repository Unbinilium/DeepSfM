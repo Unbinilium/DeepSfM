{
 "cells": [
  {
   "cell_type": "markdown",
   "metadata": {},
   "source": [
    "# Visualizations"
   ]
  },
  {
   "cell_type": "code",
   "execution_count": 2,
   "metadata": {
    "tags": []
   },
   "outputs": [],
   "source": [
    "import os\n",
    "from pathlib import Path\n",
    "\n",
    "import cv2\n",
    "import matplotlib.pyplot as plt\n",
    "import numpy as np\n",
    "\n",
    "# %load_ext autoreload\n",
    "# %autoreload 2\n",
    "%matplotlib inline\n",
    "\n",
    "plot_dpi = 70"
   ]
  },
  {
   "cell_type": "code",
   "execution_count": 6,
   "metadata": {
    "tags": []
   },
   "outputs": [
    {
     "data": {
      "text/plain": [
       "'/Users/unbinilium/Documents/Develop/Python/SfM/src'"
      ]
     },
     "execution_count": 6,
     "metadata": {},
     "output_type": "execute_result"
    }
   ],
   "source": [
    "cwd = os.getcwd()\n",
    "cwd"
   ]
  },
  {
   "cell_type": "code",
   "execution_count": 7,
   "metadata": {},
   "outputs": [
    {
     "data": {
      "text/plain": [
       "'/Users/unbinilium/Documents/Develop/Python/SfM/src/../data/datasets'"
      ]
     },
     "execution_count": 7,
     "metadata": {},
     "output_type": "execute_result"
    }
   ],
   "source": [
    "dataset_dir = '../data/datasets'\n",
    "\n",
    "dataset_path = os.path.join(cwd, dataset_dir)\n",
    "dataset_path"
   ]
  },
  {
   "cell_type": "code",
   "execution_count": 8,
   "metadata": {},
   "outputs": [
    {
     "name": "stdout",
     "output_type": "stream",
     "text": [
      "vegetable_dog_full_masked_sp_ex_sg \n",
      "\t dict_keys(['dense_mesh', 'dense', 'dense_mesh_refine'])\n",
      "mini_oreo_sp_po_sg \n",
      "\t dict_keys(['dense_mesh', 'dense', 'dense_mesh_refine'])\n",
      "vegetable_dog_full_masked_sift_ex_nn \n",
      "\t dict_keys(['dense_mesh', 'dense', 'dense_mesh_refine'])\n",
      "vegetable_dog_full_sp_ex_sg \n",
      "\t dict_keys(['dense_mesh', 'dense', 'dense_mesh_refine'])\n",
      "mini_oreo_masked_sp_po_sg \n",
      "\t dict_keys(['dense_mesh', 'dense', 'dense_mesh_refine'])\n",
      "vegetable_dog_full_sift_ex_nn \n",
      "\t dict_keys(['dense_mesh', 'dense', 'dense_mesh_refine'])\n"
     ]
    }
   ],
   "source": [
    "plys = {}\n",
    "\n",
    "for fn in os.listdir(dataset_path):\n",
    "    if not os.path.isdir(os.path.join(dataset_path, fn)):\n",
    "        continue\n",
    "    \n",
    "    model_plys = {}\n",
    "    mvs_dir = os.path.join(dataset_path, fn, 'mvs_ws')\n",
    "    if not os.path.isdir(mvs_dir):\n",
    "        continue\n",
    "\n",
    "    for f in os.listdir(mvs_dir):\n",
    "        if not (f.endswith('.ply') and f.startswith('model_')):\n",
    "            continue\n",
    "        p = os.path.join(mvs_dir, f)\n",
    "        k = Path(f).stem.replace('model_', '')\n",
    "        model_plys[k] = p\n",
    "        \n",
    "    mvs_model_dir = os.path.join(mvs_dir, 'model')\n",
    "    if os.path.isdir(mvs_model_dir):\n",
    "        for f in os.listdir(mvs_model_dir):\n",
    "            if not (f.endswith('.ply') and f.startswith('model_')):\n",
    "                continue\n",
    "            p = os.path.join(mvs_dir, f)\n",
    "            k = Path(f).stem.replace('model_', '')\n",
    "            model_plys[k] = p\n",
    "    \n",
    "    plys[fn] = model_plys\n",
    "       \n",
    "for (k, v) in plys.items():\n",
    "    print(k, '\\n\\t', v.keys())\n",
    "            "
   ]
  },
  {
   "cell_type": "code",
   "execution_count": null,
   "metadata": {},
   "outputs": [],
   "source": [
    "import point_cloud_utils as pcu\n",
    "\n",
    "def pcu_compare(model_pair, name):\n",
    "    m1, m2 = model_pair\n",
    "    p1 = pcu.load_mesh_v(plys[m1][name])\n",
    "    p2 = pcu.load_mesh_v(plys[m2][name])\n",
    "    \n",
    "    cd = pcu.chamfer_distance(p1, p2)\n",
    "    hd = pcu.hausdorff_distance(p1, p2)\n",
    "    \n",
    "    return cd, hd"
   ]
  },
  {
   "cell_type": "markdown",
   "metadata": {},
   "source": [
    "## Dense Compare"
   ]
  },
  {
   "cell_type": "code",
   "execution_count": null,
   "metadata": {
    "tags": []
   },
   "outputs": [],
   "source": [
    "image_dir = '../data/vis/dense_compare'\n",
    "\n",
    "img_lists = []\n",
    "for filename in os.listdir(image_dir):\n",
    "    if os.path.splitext(filename)[1] in ['.jpg', '.png']:\n",
    "        img_lists.append(os.path.join(image_dir, filename))\n",
    "\n",
    "img_lists = sorted(img_lists)\n",
    "\n",
    "img_lists"
   ]
  },
  {
   "cell_type": "code",
   "execution_count": null,
   "metadata": {
    "tags": []
   },
   "outputs": [],
   "source": [
    "img_lists =[\n",
    "    [ img_lists[0], img_lists[4], img_lists[1], img_lists[5] ],\n",
    "    [ img_lists[3], img_lists[7], img_lists[2], img_lists[6] ]\n",
    "]\n",
    "\n",
    "img_lists"
   ]
  },
  {
   "cell_type": "code",
   "execution_count": null,
   "metadata": {
    "tags": []
   },
   "outputs": [],
   "source": [
    "fig, ax = plt.subplots(2, 4, figsize=(14.5, 5), constrained_layout=True, sharey=True)\n",
    "fig.set_dpi(plot_dpi)\n",
    "fig.tight_layout()\n",
    "\n",
    "i = 0\n",
    "for r in img_lists:\n",
    "    j = 0\n",
    "    for c in r:\n",
    "        p = os.path.join(cwd, c)\n",
    "        im = cv2.imread(p, cv2.IMREAD_COLOR)\n",
    "        n = Path(p).stem\n",
    "        ax[i, j].set_title(n)\n",
    "        ax[i, j].imshow(im)\n",
    "        j += 1\n",
    "    i += 1"
   ]
  },
  {
   "cell_type": "code",
   "execution_count": null,
   "metadata": {},
   "outputs": [],
   "source": [
    "pair = 'vegetable_dog_full_sift_ex_nn', 'vegetable_dog_full_sp_ex_sg'\n",
    "\n",
    "cd, hd = pcu_compare(pair, 'dense')\n",
    "\n",
    "print(cd, hd)"
   ]
  },
  {
   "cell_type": "code",
   "execution_count": null,
   "metadata": {},
   "outputs": [],
   "source": [
    "pair = 'vegetable_dog_full_masked_sift_ex_nn', 'vegetable_dog_full_masked_sp_ex_sg'\n",
    "\n",
    "cd, hd = pcu_compare(pair, 'dense')\n",
    "\n",
    "print(cd, hd)"
   ]
  },
  {
   "cell_type": "markdown",
   "metadata": {},
   "source": [
    "## Dense Mesh Compare"
   ]
  },
  {
   "cell_type": "code",
   "execution_count": null,
   "metadata": {
    "tags": []
   },
   "outputs": [],
   "source": [
    "image_dir = '../data/vis/dense_mesh_compare'\n",
    "\n",
    "img_lists = []\n",
    "for filename in os.listdir(image_dir):\n",
    "    if os.path.splitext(filename)[1] in ['.jpg', '.png']:\n",
    "        img_lists.append(os.path.join(image_dir, filename))\n",
    "\n",
    "img_lists = sorted(img_lists)\n",
    "\n",
    "img_lists"
   ]
  },
  {
   "cell_type": "code",
   "execution_count": null,
   "metadata": {
    "tags": []
   },
   "outputs": [],
   "source": [
    "img_lists =[\n",
    "    [ img_lists[1], img_lists[7], img_lists[4], img_lists[10] ],\n",
    "    [ img_lists[0], img_lists[6], img_lists[3], img_lists[9] ],\n",
    "    [ img_lists[2], img_lists[8], img_lists[5], img_lists[11] ]\n",
    "]\n",
    "\n",
    "img_lists"
   ]
  },
  {
   "cell_type": "code",
   "execution_count": null,
   "metadata": {
    "tags": []
   },
   "outputs": [],
   "source": [
    "fig, ax = plt.subplots(3, 4, figsize=(14.5, 8), constrained_layout=True, sharey=True)\n",
    "fig.set_dpi(plot_dpi)\n",
    "fig.tight_layout()\n",
    "\n",
    "i = 0\n",
    "for r in img_lists:\n",
    "    j = 0\n",
    "    for c in r:\n",
    "        p = os.path.join(cwd, c)\n",
    "        im = cv2.imread(p, cv2.IMREAD_COLOR)\n",
    "        n = Path(p).stem\n",
    "        ax[i, j].set_title(n)\n",
    "        ax[i, j].imshow(im)\n",
    "        j += 1\n",
    "    i += 1"
   ]
  },
  {
   "cell_type": "code",
   "execution_count": null,
   "metadata": {},
   "outputs": [],
   "source": [
    "fig, ax = plt.subplots(3, 4, figsize=(14.5, 8), constrained_layout=True, sharey=True)\n",
    "fig.set_dpi(plot_dpi)\n",
    "fig.tight_layout()\n",
    "\n",
    "i = 0\n",
    "for r in img_lists:\n",
    "    j = 0\n",
    "    for c in r:\n",
    "        p = os.path.join(cwd, c)\n",
    "        im = cv2.imread(p, cv2.IMREAD_COLOR)\n",
    "        n = Path(p).stem\n",
    "        ax[i, j].set_title(n)\n",
    "        ax[i, j].imshow(im)\n",
    "        j += 1\n",
    "    i += 1"
   ]
  },
  {
   "attachments": {},
   "cell_type": "markdown",
   "metadata": {},
   "source": [
    "## Dense Mesh Refine Compare"
   ]
  },
  {
   "cell_type": "code",
   "execution_count": 3,
   "metadata": {},
   "outputs": [
    {
     "data": {
      "text/plain": [
       "['../data/vis/dense_mesh_refine_compare/SP-SG (Back).png',\n",
       " '../data/vis/dense_mesh_refine_compare/SP-SG (Body).png',\n",
       " '../data/vis/dense_mesh_refine_compare/SP-SG (Face).png',\n",
       " '../data/vis/dense_mesh_refine_compare/SP-SG (Refined).png',\n",
       " '../data/vis/dense_mesh_refine_compare/SP-SG (Refined, Back).png',\n",
       " '../data/vis/dense_mesh_refine_compare/SP-SG (Refined, Body).png',\n",
       " '../data/vis/dense_mesh_refine_compare/SP-SG (Refined, Face).png',\n",
       " '../data/vis/dense_mesh_refine_compare/SP-SG.png']"
      ]
     },
     "execution_count": 3,
     "metadata": {},
     "output_type": "execute_result"
    }
   ],
   "source": [
    "image_dir = '../data/vis/dense_mesh_refine_compare'\n",
    "\n",
    "img_lists = []\n",
    "for filename in os.listdir(image_dir):\n",
    "    if os.path.splitext(filename)[1] in ['.jpg', '.png']:\n",
    "        img_lists.append(os.path.join(image_dir, filename))\n",
    "\n",
    "img_lists = sorted(img_lists)\n",
    "\n",
    "img_lists"
   ]
  },
  {
   "cell_type": "code",
   "execution_count": 4,
   "metadata": {},
   "outputs": [
    {
     "data": {
      "text/plain": [
       "[['../data/vis/dense_mesh_refine_compare/SP-SG.png',\n",
       "  '../data/vis/dense_mesh_refine_compare/SP-SG (Face).png',\n",
       "  '../data/vis/dense_mesh_refine_compare/SP-SG (Body).png',\n",
       "  '../data/vis/dense_mesh_refine_compare/SP-SG (Back).png'],\n",
       " ['../data/vis/dense_mesh_refine_compare/SP-SG (Refined).png',\n",
       "  '../data/vis/dense_mesh_refine_compare/SP-SG (Refined, Face).png',\n",
       "  '../data/vis/dense_mesh_refine_compare/SP-SG (Refined, Body).png',\n",
       "  '../data/vis/dense_mesh_refine_compare/SP-SG (Refined, Back).png']]"
      ]
     },
     "execution_count": 4,
     "metadata": {},
     "output_type": "execute_result"
    }
   ],
   "source": [
    "img_lists =[\n",
    "    [ img_lists[7], img_lists[2], img_lists[1], img_lists[0] ],\n",
    "    [ img_lists[3], img_lists[6], img_lists[5], img_lists[4] ]\n",
    "]\n",
    "\n",
    "img_lists"
   ]
  },
  {
   "cell_type": "code",
   "execution_count": null,
   "metadata": {},
   "outputs": [],
   "source": [
    "fig, ax = plt.subplots(2, 4, figsize=(14.5, 5), constrained_layout=True, sharey=True)\n",
    "fig.set_dpi(plot_dpi)\n",
    "fig.tight_layout()\n",
    "\n",
    "i = 0\n",
    "for r in img_lists:\n",
    "    j = 0\n",
    "    for c in r:\n",
    "        p = os.path.join(cwd, c)\n",
    "        im = cv2.imread(p, cv2.IMREAD_COLOR)\n",
    "        n = Path(p).stem\n",
    "        ax[i, j].set_title(n)\n",
    "        ax[i, j].imshow(im)\n",
    "        j += 1\n",
    "    i += 1"
   ]
  },
  {
   "cell_type": "code",
   "execution_count": null,
   "metadata": {},
   "outputs": [],
   "source": [
    "pair = 'vegetable_dog_full_masked_sift_ex_nn', 'vegetable_dog_full_masked_sp_ex_sg'\n",
    "\n",
    "cd, hd = pcu_compare(pair, 'dense_mesh_refine')\n",
    "\n",
    "print(cd, hd)"
   ]
  },
  {
   "attachments": {},
   "cell_type": "markdown",
   "metadata": {},
   "source": [
    "## Final Model"
   ]
  },
  {
   "cell_type": "code",
   "execution_count": 5,
   "metadata": {},
   "outputs": [
    {
     "data": {
      "text/plain": [
       "['../data/vis/sp_ex_sg_model/Back.png',\n",
       " '../data/vis/sp_ex_sg_model/Front.png',\n",
       " '../data/vis/sp_ex_sg_model/Left-Back.png',\n",
       " '../data/vis/sp_ex_sg_model/Right.png']"
      ]
     },
     "execution_count": 5,
     "metadata": {},
     "output_type": "execute_result"
    }
   ],
   "source": [
    "image_dir = '../data/vis/sp_ex_sg_model'\n",
    "\n",
    "img_lists = []\n",
    "for filename in os.listdir(image_dir):\n",
    "    if os.path.splitext(filename)[1] in ['.jpg', '.png']:\n",
    "        img_lists.append(os.path.join(image_dir, filename))\n",
    "\n",
    "img_lists = sorted(img_lists)\n",
    "\n",
    "img_lists"
   ]
  },
  {
   "cell_type": "code",
   "execution_count": null,
   "metadata": {},
   "outputs": [],
   "source": [
    "img_lists = [ img_lists[1], img_lists[3], img_lists[0], img_lists[2] ]"
   ]
  },
  {
   "cell_type": "code",
   "execution_count": null,
   "metadata": {},
   "outputs": [],
   "source": [
    "fig, ax = plt.subplots(1, 4, figsize=(14.5, 2.5), constrained_layout=True, sharey=True)\n",
    "fig.set_dpi(plot_dpi)\n",
    "fig.tight_layout()\n",
    "\n",
    "i = 0\n",
    "for c in r:\n",
    "    p = os.path.join(cwd, c)\n",
    "    im = cv2.imread(p, cv2.IMREAD_COLOR)\n",
    "    n = Path(p).stem\n",
    "    ax[i].set_title(n)\n",
    "    ax[i].imshow(im)\n",
    "    i += 1"
   ]
  }
 ],
 "metadata": {
  "kernelspec": {
   "display_name": "Python 3 (ipykernel)",
   "language": "python",
   "name": "python3"
  },
  "language_info": {
   "codemirror_mode": {
    "name": "ipython",
    "version": 3
   },
   "file_extension": ".py",
   "mimetype": "text/x-python",
   "name": "python",
   "nbconvert_exporter": "python",
   "pygments_lexer": "ipython3",
   "version": "3.11.2"
  },
  "vscode": {
   "interpreter": {
    "hash": "5354608d47e8d3d40283fd6505b86116d9905b298f75dd83c53ff0767e8880c2"
   }
  }
 },
 "nbformat": 4,
 "nbformat_minor": 4
}
